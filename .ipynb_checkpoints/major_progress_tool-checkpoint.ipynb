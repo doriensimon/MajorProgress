{
 "cells": [
  {
   "cell_type": "code",
   "execution_count": 57,
   "metadata": {},
   "outputs": [],
   "source": [
    "import os\n",
    "import importlib\n",
    "import copy"
   ]
  },
  {
   "cell_type": "code",
   "execution_count": 83,
   "metadata": {},
   "outputs": [],
   "source": [
    "import computer_science\n",
    "importlib.reload(computer_science)\n",
    "import req_builder\n",
    "from req_builder import Req\n",
    "\n",
    "from computer_science import TRACKS\n"
   ]
  },
  {
   "cell_type": "markdown",
   "metadata": {},
   "source": [
    "### Put a sample course list of a student to test against majors like the one below "
   ]
  },
  {
   "cell_type": "code",
   "execution_count": 3,
   "metadata": {},
   "outputs": [],
   "source": [
    "samp_list = set(['CHEM31A', 'CHEM31B', 'CHEM31M', 'CHEM33', 'CHEM174', 'BIO86', 'CHEM121', 'CHEM131', 'CHEM151', 'CHEM171', 'CHEM181', 'MATH19', 'MATH20', 'MATH21', 'MATH51', \n",
    "    'PHYSICS41', 'PHYSICS42', 'PHYSICS43', 'PHYSICS44', \n",
    "    'CHEM123', 'CHEM124', 'CHEM126', 'CHEM185', 'CHEM173', 'CHEM183', 'CHEM184', 'CHEM176'])"
   ]
  },
  {
   "cell_type": "code",
   "execution_count": 85,
   "metadata": {},
   "outputs": [],
   "source": [
    "samp_list = ['CHEM31A', 'CHEM31B', 'PHYSICS22', 'PHYSICS23', 'PHYSICS24', 'CHEM174', 'BIO86', 'CHEM121', 'CHEM131', 'CHEM151', 'CHEM171', 'CHEM181', 'MATH19', 'MATH20', 'MATH21', 'MATH51', \n",
    "             'PHYSICS42', 'PHYSICS43', 'PHYSICS44', \n",
    "    'CHEM123', 'CHEM124', 'CHEM126', 'CHEM185', 'CHEM173', 'CHEM183', 'CHEM184', 'CHEM176']"
   ]
  },
  {
   "cell_type": "markdown",
   "metadata": {},
   "source": [
    "### Subtracting the sets from each other "
   ]
  },
  {
   "cell_type": "code",
   "execution_count": 121,
   "metadata": {},
   "outputs": [],
   "source": [
    "def nested_req(req, courses):\n",
    "    off_count = 0 \n",
    "    other_reqs = set()\n",
    "    need = []\n",
    "    for req in req.reqs:\n",
    "        if isinstance(req, Req):            \n",
    "            req_set = set(req.reqs)\n",
    "            req_num = req.num[0]\n",
    "            before_length = len(req_set)\n",
    "            if not len(req_set.difference(courses)) == before_length - req_num:\n",
    "                off_count += 1\n",
    "                need.append((req_set, req.num[0]))\n",
    "        else:\n",
    "            other_reqs.add(req)\n",
    "    return off_count, other_reqs, need"
   ]
  },
  {
   "cell_type": "code",
   "execution_count": 122,
   "metadata": {},
   "outputs": [],
   "source": [
    "def major_progress(major, courses, course_units):\n",
    "    off_count = 0 \n",
    "    other_reqs = set()\n",
    "    need = []\n",
    "    for req in TRACKS[major]:\n",
    "        if isinstance(req, Req):\n",
    "            if any(isinstance(x, Req) for x in req.reqs):\n",
    "                count, required, needed = nested_req(req, courses)\n",
    "                off_count += count\n",
    "                \n",
    "                other_reqs.union(required)\n",
    "                need.extend(needed)\n",
    "            else:\n",
    "                req_set = set(req.reqs)\n",
    "                req_num = req.num[0]\n",
    "                if req.num[1]:\n",
    "                    req_num = int(req_num/course_units)\n",
    "                before_length = len(req_set)\n",
    "                if not len(req_set.difference(courses)) <= before_length - req_num:\n",
    "                    off_count += 1\n",
    "                    need.append((req_set, req.num[0]))\n",
    "        else:\n",
    "            other_reqs.add(req)\n",
    "    \n",
    "    off_count += len(other_reqs.difference(courses))\n",
    "    courses_left = list(other_reqs.difference(courses))\n",
    "    courses_left.extend(need)\n",
    "\n",
    "    return str(round(off_count/len(TRACKS[major]) * 100, 2))  + '%' + ' away from being a ' + major + ' major', courses_left"
   ]
  },
  {
   "cell_type": "markdown",
   "metadata": {},
   "source": [
    "### Looping through requirements and deleting them as I go "
   ]
  },
  {
   "cell_type": "code",
   "execution_count": 43,
   "metadata": {},
   "outputs": [],
   "source": [
    "def req_parse(requirement, requirements, index): \n",
    "    req_num = requirement.num[0]\n",
    "    reqs = requirement.reqs\n",
    "    for i in range(len(reqs)):\n",
    "        req_i = reqs[i]\n",
    "        if isinstance(req_i, Req):\n",
    "            req_num_in = reqs[i].num[0]\n",
    "            reqs_in = reqs[i].reqs\n",
    "            for req_inner in reqs_in:\n",
    "                if req_inner in samp_list:\n",
    "                    requirements[index].reqs[i].remove(req_inner)\n",
    "                    req_num_in -= 1\n",
    "                if req_num_in == 0:\n",
    "                    requirements[index].reqs[i].remove(req_i) # gonna need to figure out how it knows it's nested\n",
    "                    break\n",
    "        if req_i in samp_list:\n",
    "            print(req_i)\n",
    "            requirements[index].reqs.remove(req_i)\n",
    "            req_num -= 1\n",
    "        if req_num == 0:\n",
    "            del requirements[index]\n",
    "            break"
   ]
  },
  {
   "cell_type": "code",
   "execution_count": 44,
   "metadata": {},
   "outputs": [],
   "source": [
    "def progress_parse(req_list):\n",
    "    fin_list = []\n",
    "    for i in range(len(req_list)):\n",
    "        req = req_list[i]\n",
    "        if isinstance(req, Req):\n",
    "            req_set = set(req.reqs)\n",
    "            req_num_bef =len(TRACKS['biochem'][i].reqs)\n",
    "            req_num_left = req_num_bef - len(req_set)\n",
    "            req_num_need = req.num[0] - req_num_left\n",
    "\n",
    "            fin_list.append((req_set, req_num_need))\n",
    "        else:\n",
    "            fin_list.append(req)\n",
    "    return fin_list"
   ]
  },
  {
   "cell_type": "code",
   "execution_count": 45,
   "metadata": {},
   "outputs": [
    {
     "name": "stdout",
     "output_type": "stream",
     "text": [
      "CHEM31A\n",
      "BIO86\n"
     ]
    },
    {
     "ename": "AttributeError",
     "evalue": "'str' object has no attribute 'reqs'",
     "output_type": "error",
     "traceback": [
      "\u001b[1;31m---------------------------------------------------------------------------\u001b[0m",
      "\u001b[1;31mAttributeError\u001b[0m                            Traceback (most recent call last)",
      "\u001b[1;32m<ipython-input-45-74da8dba80df>\u001b[0m in \u001b[0;36m<module>\u001b[1;34m\u001b[0m\n\u001b[0;32m      4\u001b[0m     \u001b[0mchem_req\u001b[0m \u001b[1;33m=\u001b[0m \u001b[0mTRACKS\u001b[0m\u001b[1;33m[\u001b[0m\u001b[1;34m'biochem'\u001b[0m\u001b[1;33m]\u001b[0m\u001b[1;33m[\u001b[0m\u001b[0mi\u001b[0m\u001b[1;33m]\u001b[0m\u001b[1;33m\u001b[0m\u001b[1;33m\u001b[0m\u001b[0m\n\u001b[0;32m      5\u001b[0m     \u001b[1;32mif\u001b[0m \u001b[0misinstance\u001b[0m\u001b[1;33m(\u001b[0m\u001b[0mchem_req\u001b[0m\u001b[1;33m,\u001b[0m \u001b[0mReq\u001b[0m\u001b[1;33m)\u001b[0m\u001b[1;33m:\u001b[0m\u001b[1;33m\u001b[0m\u001b[1;33m\u001b[0m\u001b[0m\n\u001b[1;32m----> 6\u001b[1;33m         \u001b[0mreq_parse\u001b[0m\u001b[1;33m(\u001b[0m\u001b[0mchem_req\u001b[0m\u001b[1;33m,\u001b[0m \u001b[0mchem_reqs\u001b[0m\u001b[1;33m,\u001b[0m \u001b[0mi\u001b[0m\u001b[1;33m)\u001b[0m\u001b[1;33m\u001b[0m\u001b[1;33m\u001b[0m\u001b[0m\n\u001b[0m\u001b[0;32m      7\u001b[0m     \u001b[1;32melif\u001b[0m \u001b[0mchem_req\u001b[0m \u001b[1;32min\u001b[0m \u001b[0msamp_list\u001b[0m\u001b[1;33m:\u001b[0m\u001b[1;33m\u001b[0m\u001b[1;33m\u001b[0m\u001b[0m\n\u001b[0;32m      8\u001b[0m         \u001b[0mchem_reqs\u001b[0m\u001b[1;33m.\u001b[0m\u001b[0mremove\u001b[0m\u001b[1;33m(\u001b[0m\u001b[0mchem_req\u001b[0m\u001b[1;33m)\u001b[0m\u001b[1;33m\u001b[0m\u001b[1;33m\u001b[0m\u001b[0m\n",
      "\u001b[1;32m<ipython-input-43-590388ea8375>\u001b[0m in \u001b[0;36mreq_parse\u001b[1;34m(requirement, requirements, index)\u001b[0m\n\u001b[0;32m     16\u001b[0m         \u001b[1;32mif\u001b[0m \u001b[0mreq_i\u001b[0m \u001b[1;32min\u001b[0m \u001b[0msamp_list\u001b[0m\u001b[1;33m:\u001b[0m\u001b[1;33m\u001b[0m\u001b[1;33m\u001b[0m\u001b[0m\n\u001b[0;32m     17\u001b[0m             \u001b[0mprint\u001b[0m\u001b[1;33m(\u001b[0m\u001b[0mreq_i\u001b[0m\u001b[1;33m)\u001b[0m\u001b[1;33m\u001b[0m\u001b[1;33m\u001b[0m\u001b[0m\n\u001b[1;32m---> 18\u001b[1;33m             \u001b[0mrequirements\u001b[0m\u001b[1;33m[\u001b[0m\u001b[0mindex\u001b[0m\u001b[1;33m]\u001b[0m\u001b[1;33m.\u001b[0m\u001b[0mreqs\u001b[0m\u001b[1;33m.\u001b[0m\u001b[0mremove\u001b[0m\u001b[1;33m(\u001b[0m\u001b[0mreq_i\u001b[0m\u001b[1;33m)\u001b[0m\u001b[1;33m\u001b[0m\u001b[1;33m\u001b[0m\u001b[0m\n\u001b[0m\u001b[0;32m     19\u001b[0m             \u001b[0mreq_num\u001b[0m \u001b[1;33m-=\u001b[0m \u001b[1;36m1\u001b[0m\u001b[1;33m\u001b[0m\u001b[1;33m\u001b[0m\u001b[0m\n\u001b[0;32m     20\u001b[0m         \u001b[1;32mif\u001b[0m \u001b[0mreq_num\u001b[0m \u001b[1;33m==\u001b[0m \u001b[1;36m0\u001b[0m\u001b[1;33m:\u001b[0m\u001b[1;33m\u001b[0m\u001b[1;33m\u001b[0m\u001b[0m\n",
      "\u001b[1;31mAttributeError\u001b[0m: 'str' object has no attribute 'reqs'"
     ]
    }
   ],
   "source": [
    "chem_reqs = copy.deepcopy(TRACKS['biochem'])\n",
    "\n",
    "for i in range(len(TRACKS['biochem'])):\n",
    "    chem_req = TRACKS['biochem'][i]\n",
    "    if isinstance(chem_req, Req):\n",
    "        req_parse(chem_req, chem_reqs, i)\n",
    "    elif chem_req in samp_list:\n",
    "        chem_reqs.remove(chem_req) \n",
    "    \n",
    "req_list = progress_parse(chem_reqs)\n",
    "req_list"
   ]
  },
  {
   "cell_type": "code",
   "execution_count": null,
   "metadata": {},
   "outputs": [],
   "source": [
    "chem_reqs = TRACKS['chem'].copy()\n",
    "\n",
    "for chem_req in TRACKS['chem']:\n",
    "    if isinstance(chem_req, Req):\n",
    "        req_parse(chem_req, chem_reqs)\n",
    "    elif chem_req in samp_list:\n",
    "        chem_reqs.remove(chem_req) \n",
    "    \n",
    "req_list = progress_parse(chem_reqs)\n"
   ]
  },
  {
   "cell_type": "markdown",
   "metadata": {},
   "source": [
    "# Below is the current interation of the Major Progress Tool \n",
    "# _______________________________________________"
   ]
  },
  {
   "cell_type": "markdown",
   "metadata": {},
   "source": [
    "### Assuming that they have all the requirements and if they don't populating a list with the requirements they don't have "
   ]
  },
  {
   "cell_type": "code",
   "execution_count": 118,
   "metadata": {},
   "outputs": [],
   "source": [
    "def major_progress_tracker(major, course_list, course_units):\n",
    "    requirements_left = []\n",
    "    reqs = TRACKS[major]\n",
    "    for req in TRACKS[major]:\n",
    "        if isinstance(req, Req):\n",
    "            req_num = req.num[0]\n",
    "            if req.num[1]:\n",
    "                req_num = int(req_num/course_units)\n",
    "            requirements_met = []\n",
    "            requisite_list = []\n",
    "            for requisite in req.reqs:\n",
    "                if isinstance(requisite, Req):\n",
    "                    inner_num = requisite.num[0]\n",
    "                    if requisite.num[1]:\n",
    "                        inner_num = int(inner_num/course_units)\n",
    "                    inners_met = []\n",
    "                    for inner_req in requisite.reqs:\n",
    "                        if inner_req in course_list:\n",
    "                            inners_met.append(inner_req)\n",
    "                            inner_num -= 1\n",
    "                        if inner_num == 0:\n",
    "                            req_num -= 1\n",
    "                    if inner_num > 0:\n",
    "                        requires_left = set(requisite.reqs).difference(set(inners_met))\n",
    "                        requisite_list.append((requires_left, inner_num))\n",
    "                elif requisite in course_list:\n",
    "\n",
    "                    requirements_met.append(requisite)\n",
    "\n",
    "                    req_num -= 1\n",
    "                else:\n",
    "                    requisite_list.append(requisite)\n",
    "                if req_num <= 0:\n",
    "                    break\n",
    "            if req_num > 0:\n",
    "                if any(isinstance(x, Req) for x in req.reqs):\n",
    "                    requirements_left.append((requisite_list, req_num))\n",
    "                else:\n",
    "                    reqs_left = set(req.reqs).difference(set(requirements_met))\n",
    "                    requirements_left.append((reqs_left, req_num))\n",
    "        elif req not in course_list:\n",
    "            requirements_left.append(req)\n",
    "    return requirements_left"
   ]
  },
  {
   "cell_type": "code",
   "execution_count": 119,
   "metadata": {
    "scrolled": true
   },
   "outputs": [
    {
     "data": {
      "text/plain": [
       "['HISTORY13S',\n",
       " 'HISTORY18S',\n",
       " 'HISTORY23S',\n",
       " 'HISTORY32S',\n",
       " 'HISTORY47S',\n",
       " 'HISTORY64S',\n",
       " 'HISTORY82S',\n",
       " 'HISTORY89S',\n",
       " 'HISTORY98S',\n",
       " ({'HISTORY13S',\n",
       "   'HISTORY18S',\n",
       "   'HISTORY200A',\n",
       "   'HISTORY200B',\n",
       "   'HISTORY200C',\n",
       "   'HISTORY200J',\n",
       "   'HISTORY200M',\n",
       "   'HISTORY200R',\n",
       "   'HISTORY200Y',\n",
       "   'HISTORY201A',\n",
       "   'HISTORY201B',\n",
       "   'HISTORY202G',\n",
       "   'HISTORY203',\n",
       "   'HISTORY203C',\n",
       "   'HISTORY203F',\n",
       "   'HISTORY204A',\n",
       "   'HISTORY204D',\n",
       "   'HISTORY204G',\n",
       "   'HISTORY205L',\n",
       "   'HISTORY210D',\n",
       "   'HISTORY210J',\n",
       "   'HISTORY211',\n",
       "   'HISTORY216D',\n",
       "   'HISTORY222',\n",
       "   'HISTORY224C',\n",
       "   'HISTORY227B',\n",
       "   'HISTORY227K',\n",
       "   'HISTORY228',\n",
       "   'HISTORY232B',\n",
       "   'HISTORY232G',\n",
       "   'HISTORY233',\n",
       "   'HISTORY233F',\n",
       "   'HISTORY234P',\n",
       "   'HISTORY235J',\n",
       "   'HISTORY235L',\n",
       "   'HISTORY23S',\n",
       "   'HISTORY240',\n",
       "   'HISTORY241C',\n",
       "   'HISTORY242J',\n",
       "   'HISTORY243C',\n",
       "   'HISTORY243G',\n",
       "   'HISTORY244F',\n",
       "   'HISTORY248',\n",
       "   'HISTORY251C',\n",
       "   'HISTORY251J',\n",
       "   'HISTORY253F',\n",
       "   'HISTORY253P',\n",
       "   'HISTORY255B',\n",
       "   'HISTORY256E',\n",
       "   'HISTORY257E',\n",
       "   'HISTORY259E',\n",
       "   'HISTORY260P',\n",
       "   'HISTORY261E',\n",
       "   'HISTORY261G',\n",
       "   'HISTORY279B',\n",
       "   'HISTORY281K',\n",
       "   'HISTORY282J',\n",
       "   'HISTORY283F',\n",
       "   'HISTORY283J',\n",
       "   'HISTORY284',\n",
       "   'HISTORY284F',\n",
       "   'HISTORY285E',\n",
       "   'HISTORY286E',\n",
       "   'HISTORY288C',\n",
       "   'HISTORY290',\n",
       "   'HISTORY291G',\n",
       "   'HISTORY292C',\n",
       "   'HISTORY292D',\n",
       "   'HISTORY298C',\n",
       "   'HISTORY298E',\n",
       "   'HISTORY298F',\n",
       "   'HISTORY299H',\n",
       "   'HISTORY32S',\n",
       "   'HISTORY47S',\n",
       "   'HISTORY64S',\n",
       "   'HISTORY89S',\n",
       "   'HISTORY98S'},\n",
       "  2),\n",
       " ({'HISTORY200A',\n",
       "   'HISTORY200B',\n",
       "   'HISTORY200C',\n",
       "   'HISTORY200J',\n",
       "   'HISTORY200M',\n",
       "   'HISTORY200R',\n",
       "   'HISTORY200Y'},\n",
       "  1),\n",
       " ([({'HISTORY110C', 'HISTORY150A', 'HISTORY150B', 'HISTORY150C'}, 1),\n",
       "   ({'HISTORY145B', 'HISTORY174', 'HISTORY181B', 'HISTORY195C'}, 1)],\n",
       "  2),\n",
       " 'HISTORY209S']"
      ]
     },
     "execution_count": 119,
     "metadata": {},
     "output_type": "execute_result"
    }
   ],
   "source": [
    "major_progress_tracker('history', samp_list, 5)"
   ]
  },
  {
   "cell_type": "code",
   "execution_count": null,
   "metadata": {},
   "outputs": [],
   "source": [
    "def req_nest(number, courses, requirement):\n",
    "    requirements = requirement.reqs\n",
    "    met = []\n",
    "    for r in requirements:\n",
    "        if r in courses:\n",
    "            met.append(r)\n",
    "            number"
   ]
  },
  {
   "cell_type": "code",
   "execution_count": 122,
   "metadata": {},
   "outputs": [
    {
     "data": {
      "text/plain": [
       "['CS106A', 'PHYSICS41', 'CHEM153', 'CHEM175']"
      ]
     },
     "execution_count": 122,
     "metadata": {},
     "output_type": "execute_result"
    }
   ],
   "source": [
    "requirements_left = []\n",
    "reqs = TRACKS['chem']\n",
    "for req in TRACKS['chem']:\n",
    "    if isinstance(req, Req):\n",
    "        req_num = req.num[0]\n",
    "        if req.num[1]:\n",
    "            req_num = int(req_num/course_units)\n",
    "        requirements_met = []\n",
    "        requisite_list = []\n",
    "        for requisite in req.reqs:\n",
    "            if isinstance(requisite, Req):\n",
    "                inner_num = requisite.num[0]\n",
    "                if requisite.num[1]:\n",
    "                    inner_num = int(inner_num/course_units)\n",
    "                inners_met = []\n",
    "                for inner_req in requisite.reqs:\n",
    "                    if inner_req in samp_list:\n",
    "                        inners_met.append(inner_req)\n",
    "                        inner_num -= 1\n",
    "                    if inner_num == 0:\n",
    "                        req_num -= 1\n",
    "                if inner_num > 0:\n",
    "                    requires_left = set(requisite.reqs).difference(set(inners_met))\n",
    "                    requisite_list.append((requires_left, inner_num))\n",
    "            elif requisite in samp_list:\n",
    "\n",
    "                requirements_met.append(requisite)\n",
    "\n",
    "                req_num -= 1\n",
    "            else:\n",
    "                requisite_list.append(requisite)\n",
    "            if req_num <= 0:\n",
    "                break\n",
    "        if req_num > 0:\n",
    "            if any(isinstance(x, Req) for x in req.reqs):\n",
    "                requirements_left.append((requisite_list, req_num))\n",
    "            else:\n",
    "                reqs_left = set(req.reqs).difference(set(requirements_met))\n",
    "                requirements_left.append((reqs_left, req_num))\n",
    "    elif req not in samp_list:\n",
    "        requirements_left.append(req)\n",
    "requirements_left"
   ]
  },
  {
   "cell_type": "markdown",
   "metadata": {},
   "source": [
    "### These are notes from our meetings"
   ]
  },
  {
   "cell_type": "code",
   "execution_count": 123,
   "metadata": {
    "scrolled": false
   },
   "outputs": [
    {
     "data": {
      "text/plain": [
       "('4.17% away from being a biochem major', ['CS106A'])"
      ]
     },
     "execution_count": 123,
     "metadata": {},
     "output_type": "execute_result"
    }
   ],
   "source": [
    "# UNIT PROBLEM\n",
    "# 1. Keep track of units\n",
    "# 2. Add a unit parameter for classes\n",
    "# ['1', '2', '3'] = 15\n",
    "\n",
    "# Power Set Problem\n",
    "# Take out each course from a requirement and generate power set\n",
    "# put all courses in list and create recursive function that pulls one thing out and see's if that list is still satisfying\n",
    "# Dynamic Programming (ex. memoization) --> there are ceratin cases where you can multiply by the number of ways to get to that case\n",
    "# what is the minimum number of courses sufficient to complete a major?\n",
    "# how people \n",
    "\n",
    "\n",
    "# major_progress('biochem')\n",
    "# If a student takes multiple offerings of the same class\n",
    "major_progress('biochem', samp_list, 4)\n",
    "# edge cases: redundant courses if they are taking course equivalents we aren't double counting those. \n",
    "# How many different ways can you satisfy a major? Try to generate the power set of all possible courses/the requisites. Wants to convey major complexity satisfication and how it varies across departments\n"
   ]
  },
  {
   "cell_type": "markdown",
   "metadata": {},
   "source": [
    "### This is how to call the function to track major progression"
   ]
  },
  {
   "cell_type": "code",
   "execution_count": 125,
   "metadata": {},
   "outputs": [
    {
     "data": {
      "text/plain": [
       "('13.64% away from being a chem major', ['CS106A', 'CHEM175', 'CHEM153'])"
      ]
     },
     "execution_count": 125,
     "metadata": {},
     "output_type": "execute_result"
    }
   ],
   "source": [
    "# first param. is the major that is in TRACKS built in the computer_science.py file\n",
    "# Second param is the sample_course_list to test against\n",
    "# third param is the number of units a class is worth (MUST put a value here even if major doesn't need it)\n",
    "\n",
    "# for the nested reqs, make sure to just return the course left to take\n",
    "# take the requirements --> substract from the requirement set after they have accomplished it\n",
    "major_progress('chem', samp_list, 4)"
   ]
  },
  {
   "cell_type": "markdown",
   "metadata": {},
   "source": [
    "### Currently working on generating the calculation to determine the number of ways to complete a major"
   ]
  },
  {
   "cell_type": "code",
   "execution_count": 9,
   "metadata": {},
   "outputs": [
    {
     "data": {
      "text/plain": [
       "dict_keys(['chem', 'biochem', 'bio', 'cheme', 'math', 'econ', 'history'])"
      ]
     },
     "execution_count": 9,
     "metadata": {},
     "output_type": "execute_result"
    }
   ],
   "source": [
    "TRACKS.keys()"
   ]
  },
  {
   "cell_type": "code",
   "execution_count": 124,
   "metadata": {},
   "outputs": [],
   "source": [
    "def major_complexity(major, units): \n",
    "    count = 1\n",
    "    for req in TRACKS[major]:\n",
    "        if isinstance(req, Req):\n",
    "            req_min = req.num[0]\n",
    "            if req.num[1]:\n",
    "                req_min /= units\n",
    "            count *= len(req.reqs) // req_min\n",
    "    return count"
   ]
  },
  {
   "cell_type": "code",
   "execution_count": 126,
   "metadata": {
    "scrolled": false
   },
   "outputs": [
    {
     "data": {
      "text/plain": [
       "266"
      ]
     },
     "execution_count": 126,
     "metadata": {},
     "output_type": "execute_result"
    }
   ],
   "source": [
    "major_complexity('history', 3)"
   ]
  }
 ],
 "metadata": {
  "kernelspec": {
   "display_name": "Python 3",
   "language": "python",
   "name": "python3"
  },
  "language_info": {
   "codemirror_mode": {
    "name": "ipython",
    "version": 3
   },
   "file_extension": ".py",
   "mimetype": "text/x-python",
   "name": "python",
   "nbconvert_exporter": "python",
   "pygments_lexer": "ipython3",
   "version": "3.7.3"
  }
 },
 "nbformat": 4,
 "nbformat_minor": 4
}
