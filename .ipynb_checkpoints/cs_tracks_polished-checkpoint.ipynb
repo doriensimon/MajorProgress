{
 "cells": [
  {
   "cell_type": "code",
   "execution_count": 118,
   "metadata": {},
   "outputs": [],
   "source": [
    "import os\n",
    "import importlib"
   ]
  },
  {
   "cell_type": "code",
   "execution_count": 119,
   "metadata": {},
   "outputs": [],
   "source": [
    "importlib.reload(computer_science)\n",
    "import computer_science\n",
    "import req_builder\n",
    "from req_builder import Req\n",
    "\n",
    "from computer_science import TRACKS\n"
   ]
  },
  {
   "cell_type": "markdown",
   "metadata": {},
   "source": [
    "### Put a sample course list of a student to test against majors like the one below "
   ]
  },
  {
   "cell_type": "code",
   "execution_count": 120,
   "metadata": {},
   "outputs": [],
   "source": [
    "samp_list = set(['CHEM31A', 'CHEM31B', 'CHEM31M', 'CHEM33', 'CHEM174', 'BIO86', 'CHEM121', 'CHEM131', 'CHEM151', 'CHEM171', 'CHEM181', 'MATH19', 'MATH20', 'MATH21', 'MATH51', \n",
    "    'PHYSICS41', 'PHYSICS42', 'PHYSICS43', 'PHYSICS44', \n",
    "    'CHEM123', 'CHEM124', 'CHEM126', 'CHEM185', 'CHEM173', 'CHEM183', 'CHEM184', 'CHEM176'])"
   ]
  },
  {
   "cell_type": "code",
   "execution_count": 121,
   "metadata": {},
   "outputs": [],
   "source": [
    "def nested_req(req, courses):\n",
    "    off_count = 0 \n",
    "    other_reqs = set()\n",
    "    need = []\n",
    "    for req in req.reqs:\n",
    "        if isinstance(req, Req):            \n",
    "            req_set = set(req.reqs)\n",
    "            req_num = req.num[0]\n",
    "            before_length = len(req_set)\n",
    "            if not len(req_set.difference(courses)) == before_length - req_num:\n",
    "                off_count += 1\n",
    "                need.append((req_set, req.num[0]))\n",
    "        else:\n",
    "            other_reqs.add(req)\n",
    "    return off_count, other_reqs, need"
   ]
  },
  {
   "cell_type": "code",
   "execution_count": 122,
   "metadata": {},
   "outputs": [],
   "source": [
    "def major_progress(major, courses, course_units):\n",
    "    off_count = 0 \n",
    "    other_reqs = set()\n",
    "    need = []\n",
    "    for req in TRACKS[major]:\n",
    "        if isinstance(req, Req):\n",
    "            if any(isinstance(x, Req) for x in req.reqs):\n",
    "                count, required, needed = nested_req(req, courses)\n",
    "                off_count += count\n",
    "                \n",
    "                other_reqs.union(required)\n",
    "                need.extend(needed)\n",
    "            else:\n",
    "                req_set = set(req.reqs)\n",
    "                req_num = req.num[0]\n",
    "                if req.num[1]:\n",
    "                    req_num = int(req_num/course_units)\n",
    "                before_length = len(req_set)\n",
    "                if not len(req_set.difference(courses)) <= before_length - req_num:\n",
    "                    off_count += 1\n",
    "                    need.append((req_set, req.num[0]))\n",
    "        else:\n",
    "            other_reqs.add(req)\n",
    "    \n",
    "    off_count += len(other_reqs.difference(courses))\n",
    "    courses_left = list(other_reqs.difference(courses))\n",
    "    courses_left.extend(need)\n",
    "\n",
    "    return str(round(off_count/len(TRACKS[major]) * 100, 2))  + '%' + ' away from being a ' + major + ' major', courses_left"
   ]
  },
  {
   "cell_type": "markdown",
   "metadata": {},
   "source": [
    "### These are notes from our meetings"
   ]
  },
  {
   "cell_type": "code",
   "execution_count": 123,
   "metadata": {
    "scrolled": false
   },
   "outputs": [
    {
     "data": {
      "text/plain": [
       "('4.17% away from being a biochem major', ['CS106A'])"
      ]
     },
     "execution_count": 123,
     "metadata": {},
     "output_type": "execute_result"
    }
   ],
   "source": [
    "# UNIT PROBLEM\n",
    "# 1. Keep track of units\n",
    "# 2. Add a unit parameter for classes\n",
    "# ['1', '2', '3'] = 15\n",
    "\n",
    "# Power Set Problem\n",
    "# Take out each course from a requirement and generate power set\n",
    "# put all courses in list and create recursive function that pulls one thing out and see's if that list is still satisfying\n",
    "# Dynamic Programming (ex. memoization) --> there are ceratin cases where you can multiply by the number of ways to get to that case\n",
    "# what is the minimum number of courses sufficient to complete a major?\n",
    "# how people \n",
    "\n",
    "\n",
    "# major_progress('biochem')\n",
    "# If a student takes multiple offerings of the same class\n",
    "major_progress('biochem', samp_list, 4)\n",
    "# edge cases: redundant courses if they are taking course equivalents we aren't double counting those. \n",
    "# How many different ways can you satisfy a major? Try to generate the power set of all possible courses/the requisites. Wants to convey major complexity satisfication and how it varies across departments\n"
   ]
  },
  {
   "cell_type": "markdown",
   "metadata": {},
   "source": [
    "### This is how to call the function to track major progression"
   ]
  },
  {
   "cell_type": "code",
   "execution_count": 125,
   "metadata": {},
   "outputs": [
    {
     "data": {
      "text/plain": [
       "('13.64% away from being a chem major', ['CS106A', 'CHEM175', 'CHEM153'])"
      ]
     },
     "execution_count": 125,
     "metadata": {},
     "output_type": "execute_result"
    }
   ],
   "source": [
    "# first param. is the major that is in TRACKS built in the computer_science.py file\n",
    "# Second param is the sample_course_list to test against\n",
    "# third param is the number of units a class is worth (MUST put a value here even if major doesn't need it)\n",
    "major_progress('chem', samp_list, 4)"
   ]
  },
  {
   "cell_type": "code",
   "execution_count": 107,
   "metadata": {
    "scrolled": false
   },
   "outputs": [
    {
     "name": "stdout",
     "output_type": "stream",
     "text": [
      "('13.64% away from being a chem major', ['CS106A', 'CHEM175', 'CHEM153'])\n",
      "\n",
      "\n",
      "('4.17% away from being a biochem major', ['CS106A'])\n",
      "\n",
      "\n",
      "('65.0% away from being a bio major', ['BIO84', 'BIO85', 'BIO83', 'BIO45', 'CME100', 'BIO82', ({'BIO61', 'BIO62', 'BIO60'}, 1), ({'BIOHOPK81', 'BIO81', 'BIOHOPK175H'}, 1), ({'BIOHOPK175H', 'BIO47', 'BIOHOPK47', 'BIO46'}, 1), ({'PHYSICS23', 'PHYSICS21', 'PHYSICS24', 'PHYSICS22'}, 4), ({'PHYSICS42', 'PHYSICS43', 'PHYSICS41'}, 4), ({'BIOHOPK174H', 'STATS141', 'STATS60', 'BIO141'}, 1), ({'BIO199W', 'BIO47', 'BIO46', 'BIO196A', 'BIOHOPK175H', 'BIOHOPK47', 'BIO168'}, 1)])\n",
      "\n",
      "\n",
      "('64.29% away from being a cheme major', ['CHEMENG110B', 'CHEMENG150', 'CHEMENG100', 'CHEMENG185A', 'CHEMENG181', 'CHEMENG180', 'CHEMENG120A', 'CHEMENG130A', 'CHEMENG130B', 'CHEMENG20', 'CHEMENG110A', 'CHEMENG185B', 'CHEMENG120B', ({'MATH53', 'CME102'}, 1), ({'CME106', 'CME104'}, 1), ({'CHEMENG177', 'CHEMENG174', 'CHEMENG142', 'CHEMENG190H', 'CHEMENG183', 'CHEMENG196', 'CHEMENG160', 'CHEMENG140', 'CHEMENG190'}, 1), ({'CEE17X', 'CEE177S'}, 2), ({'CS106M', 'ENGR42', 'ENGR76', 'ENGR21', 'ENGR60', 'ENGR40M', 'ENGR40A', 'ENGR90', 'ENGR50', 'CS106A', 'ENGR20', 'ENGR80', 'ENGR14', 'ENGR15', 'ENGR10', 'ENGR50M', 'ENGR62X', 'ENGR62', 'CS106B', 'ENGR50E', 'ENGR40B'}, 1)])\n",
      "\n",
      "\n"
     ]
    }
   ],
   "source": [
    "for major in TRACKS:\n",
    "    print(major_progress(major, samp_list, 5))\n",
    "    print()\n",
    "    print()"
   ]
  },
  {
   "cell_type": "markdown",
   "metadata": {},
   "source": [
    "### Currently working on generating the calculation to determine the number of ways to complete a major"
   ]
  },
  {
   "cell_type": "code",
   "execution_count": 109,
   "metadata": {},
   "outputs": [
    {
     "name": "stdout",
     "output_type": "stream",
     "text": [
      "108864\n"
     ]
    }
   ],
   "source": [
    "count = 1\n",
    "for req in TRACKS['cheme']:\n",
    "    if isinstance(req, Req):\n",
    "        count *= len(req.reqs)\n",
    "print(count)"
   ]
  },
  {
   "cell_type": "code",
   "execution_count": 73,
   "metadata": {
    "scrolled": true
   },
   "outputs": [
    {
     "ename": "TypeError",
     "evalue": "'Req' object is not iterable",
     "output_type": "error",
     "traceback": [
      "\u001b[1;31m---------------------------------------------------------------------------\u001b[0m",
      "\u001b[1;31mTypeError\u001b[0m                                 Traceback (most recent call last)",
      "\u001b[1;32m<ipython-input-73-1f857aee957c>\u001b[0m in \u001b[0;36m<module>\u001b[1;34m\u001b[0m\n\u001b[0;32m      1\u001b[0m \u001b[0mmajor_set\u001b[0m \u001b[1;33m=\u001b[0m \u001b[0mset\u001b[0m\u001b[1;33m(\u001b[0m\u001b[0mTRACKS\u001b[0m\u001b[1;33m[\u001b[0m\u001b[1;34m'chem'\u001b[0m\u001b[1;33m]\u001b[0m\u001b[1;33m.\u001b[0m\u001b[0mreqs\u001b[0m\u001b[1;33m)\u001b[0m\u001b[1;33m\u001b[0m\u001b[1;33m\u001b[0m\u001b[0m\n\u001b[0;32m      2\u001b[0m \u001b[1;33m\u001b[0m\u001b[0m\n\u001b[1;32m----> 3\u001b[1;33m \u001b[0mmajor_set\u001b[0m \u001b[1;33m-\u001b[0m \u001b[0mset\u001b[0m\u001b[1;33m(\u001b[0m\u001b[0mTRACKS\u001b[0m\u001b[1;33m[\u001b[0m\u001b[1;34m'chem'\u001b[0m\u001b[1;33m]\u001b[0m\u001b[1;33m.\u001b[0m\u001b[0mreqs\u001b[0m\u001b[1;33m[\u001b[0m\u001b[1;36m0\u001b[0m\u001b[1;33m]\u001b[0m\u001b[1;33m)\u001b[0m\u001b[1;33m\u001b[0m\u001b[1;33m\u001b[0m\u001b[0m\n\u001b[0m",
      "\u001b[1;31mTypeError\u001b[0m: 'Req' object is not iterable"
     ]
    }
   ],
   "source": [
    "major_set = set(TRACKS['chem'].reqs)\n",
    "\n",
    "# If I could modify the Req class and make it iterable I could probably make this faster. \n",
    "# I could just make the requirements a set and then subtract out the req object from the set\n",
    "# we will see if I can do this someday, but for now a may have one extra step making it slow\n",
    "major_set - set(TRACKS['chem'].reqs[0])"
   ]
  }
 ],
 "metadata": {
  "kernelspec": {
   "display_name": "Python 3",
   "language": "python",
   "name": "python3"
  },
  "language_info": {
   "codemirror_mode": {
    "name": "ipython",
    "version": 3
   },
   "file_extension": ".py",
   "mimetype": "text/x-python",
   "name": "python",
   "nbconvert_exporter": "python",
   "pygments_lexer": "ipython3",
   "version": "3.7.3"
  }
 },
 "nbformat": 4,
 "nbformat_minor": 4
}
