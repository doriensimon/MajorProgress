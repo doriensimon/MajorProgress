{
 "cells": [
  {
   "cell_type": "code",
   "execution_count": 1,
   "metadata": {},
   "outputs": [],
   "source": [
    "import os\n",
    "import importlib\n",
    "import copy"
   ]
  },
  {
   "cell_type": "code",
   "execution_count": 2,
   "metadata": {},
   "outputs": [],
   "source": [
    "import computer_science\n",
    "importlib.reload(computer_science)\n",
    "import req_builder\n",
    "from req_builder import Req\n",
    "\n",
    "from computer_science import TRACKS\n"
   ]
  },
  {
   "cell_type": "markdown",
   "metadata": {},
   "source": [
    "### Put a sample course list of a student to test against majors like the one below "
   ]
  },
  {
   "cell_type": "code",
   "execution_count": 3,
   "metadata": {},
   "outputs": [],
   "source": [
    "samp_list = ['CHEM31A', 'CHEM31B', 'PHYSICS22', 'PHYSICS23', 'PHYSICS24', 'CHEM174', 'BIO86', 'CHEM121', 'CHEM131', 'CHEM151', 'CHEM171', 'CHEM181', 'MATH19', 'MATH20', 'MATH21', 'MATH51', \n",
    "             'PHYSICS42', 'PHYSICS43', 'PHYSICS44', \n",
    "    'CHEM123', 'CHEM124', 'CHEM126', 'CHEM185', 'CHEM173', 'CHEM183', 'CHEM184', 'CHEM176']"
   ]
  },
  {
   "cell_type": "markdown",
   "metadata": {},
   "source": [
    "# Below is the current interation of the Major Progress Tool \n",
    "# _______________________________________________"
   ]
  },
  {
   "cell_type": "markdown",
   "metadata": {},
   "source": [
    "### Assuming that they have all the requirements and if they don't populating a list with the requirements they don't have "
   ]
  },
  {
   "cell_type": "code",
   "execution_count": 45,
   "metadata": {},
   "outputs": [],
   "source": [
    "def major_progress_tracker(major, course_list, course_units):\n",
    "    requirements_left = []\n",
    "    reqs = TRACKS[major]\n",
    "    for req in TRACKS[major]:\n",
    "        if isinstance(req, Req):\n",
    "            req_num = req.num[0]\n",
    "            if req.num[1]:\n",
    "                req_num = int(req_num/course_units)\n",
    "            requirements_met = []\n",
    "            requisite_list = []\n",
    "            for requisite in req.reqs:\n",
    "                if isinstance(requisite, Req):\n",
    "                    inner_num = requisite.num[0]\n",
    "                    if requisite.num[1]:\n",
    "                        inner_num = int(inner_num/course_units)\n",
    "                    inners_met = []\n",
    "                    for inner_req in requisite.reqs:\n",
    "                        if inner_req in course_list:\n",
    "                            inners_met.append(inner_req)\n",
    "                            inner_num -= 1\n",
    "                        if inner_num == 0:\n",
    "                            req_num -= 1\n",
    "                    if inner_num > 0:\n",
    "                        requires_left = set(requisite.reqs).difference(set(inners_met))\n",
    "                        requisite_list.append((requires_left, inner_num))\n",
    "                elif requisite in course_list:\n",
    "\n",
    "                    requirements_met.append(requisite)\n",
    "\n",
    "                    req_num -= 1\n",
    "                else:\n",
    "                    requisite_list.append(requisite)\n",
    "                if req_num <= 0:\n",
    "                    break\n",
    "            if req_num > 0:\n",
    "                if any(isinstance(x, Req) for x in req.reqs):\n",
    "                    requirements_left.append((requisite_list, req_num))\n",
    "                else:\n",
    "                    reqs_left = set(req.reqs).difference(set(requirements_met))\n",
    "                    requirements_left.append((reqs_left, req_num))\n",
    "        elif req not in course_list:\n",
    "            requirements_left.append(req)\n",
    "    return requirements_left, str(round(len(requirements_left)/len(TRACKS[major]), 2) * 100) + '% more to go for the major: ' + str(major)"
   ]
  },
  {
   "cell_type": "code",
   "execution_count": 39,
   "metadata": {},
   "outputs": [],
   "source": [
    "samp_req = Req(['CHEM31A', 'CHEM31B', 'PHYSICS22', 'PHYSICS23', 'Ki', Req(['KILLER230', 'PIRATES190', Req(['TEST IT FOR SURE'], (1, False))], (1, False))], (5, False))"
   ]
  },
  {
   "cell_type": "code",
   "execution_count": 41,
   "metadata": {},
   "outputs": [],
   "source": [
    "def inner_req(req, courses):\n",
    "    need = []\n",
    "    req_num = req.num[0]\n",
    "    if req.num[1]:\n",
    "                req_num = int(req_num/course_units)\n",
    "    for requisite in req.reqs:\n",
    "        if isinstance(requisite, Req):\n",
    "            new_set = inner_req(requisite, courses)\n",
    "            if len(new_set) > 0:\n",
    "                need.append(new_set)\n",
    "        elif requisite not in courses:\n",
    "            need.append(requisite)\n",
    "        else:\n",
    "            req_num -= 1\n",
    "    if req_num <= 0:\n",
    "        return set()\n",
    "    else:\n",
    "        return (need, req_num) "
   ]
  },
  {
   "cell_type": "code",
   "execution_count": 42,
   "metadata": {},
   "outputs": [],
   "source": [
    "def major_progress_tracker_rev(major, course_list, course_units):\n",
    "    requirements_left = []\n",
    "    reqs = TRACKS[major]\n",
    "    for req in TRACKS[major]:\n",
    "        if isinstance(req, Req):\n",
    "            requirements = inner_req(req, course_list)\n",
    "            if len(requirements) > 0:\n",
    "                requirements_left.append(requirements)\n",
    "        elif req not in course_list:\n",
    "            requirements_left.append(req)\n",
    "    return requirements_left, str(round(len(requirements_left)/len(TRACKS[major]), 2) * 100) + '% more to go for the major: ' + str(major)"
   ]
  },
  {
   "cell_type": "code",
   "execution_count": 40,
   "metadata": {},
   "outputs": [
    {
     "data": {
      "text/plain": [
       "(['Ki', (['KILLER230', 'PIRATES190', (['TEST IT FOR SURE'], 1)], 1)], 1)"
      ]
     },
     "execution_count": 40,
     "metadata": {},
     "output_type": "execute_result"
    }
   ],
   "source": [
    "inner_req(samp_req, samp_list)"
   ]
  },
  {
   "cell_type": "code",
   "execution_count": 43,
   "metadata": {
    "scrolled": true
   },
   "outputs": [
    {
     "data": {
      "text/plain": [
       "(['HISTORY13S',\n",
       "  'HISTORY18S',\n",
       "  'HISTORY23S',\n",
       "  'HISTORY32S',\n",
       "  'HISTORY47S',\n",
       "  'HISTORY64S',\n",
       "  'HISTORY82S',\n",
       "  'HISTORY89S',\n",
       "  'HISTORY98S',\n",
       "  (['HISTORY13S',\n",
       "    'HISTORY18S',\n",
       "    'HISTORY23S',\n",
       "    'HISTORY32S',\n",
       "    'HISTORY47S',\n",
       "    'HISTORY64S',\n",
       "    'HISTORY89S',\n",
       "    'HISTORY98S',\n",
       "    'HISTORY200A',\n",
       "    'HISTORY200B',\n",
       "    'HISTORY200C',\n",
       "    'HISTORY200J',\n",
       "    'HISTORY200M',\n",
       "    'HISTORY200R',\n",
       "    'HISTORY200Y',\n",
       "    'HISTORY201A',\n",
       "    'HISTORY201B',\n",
       "    'HISTORY202G',\n",
       "    'HISTORY203',\n",
       "    'HISTORY203C',\n",
       "    'HISTORY203F',\n",
       "    'HISTORY204A',\n",
       "    'HISTORY204D',\n",
       "    'HISTORY204G',\n",
       "    'HISTORY205L',\n",
       "    'HISTORY210D',\n",
       "    'HISTORY210J',\n",
       "    'HISTORY211',\n",
       "    'HISTORY216D',\n",
       "    'HISTORY222',\n",
       "    'HISTORY224C',\n",
       "    'HISTORY227B',\n",
       "    'HISTORY227K',\n",
       "    'HISTORY228',\n",
       "    'HISTORY232B',\n",
       "    'HISTORY232G',\n",
       "    'HISTORY233',\n",
       "    'HISTORY233F',\n",
       "    'HISTORY234P',\n",
       "    'HISTORY235J',\n",
       "    'HISTORY235L',\n",
       "    'HISTORY240',\n",
       "    'HISTORY241C',\n",
       "    'HISTORY242J',\n",
       "    'HISTORY243C',\n",
       "    'HISTORY243G',\n",
       "    'HISTORY244F',\n",
       "    'HISTORY248',\n",
       "    'HISTORY251C',\n",
       "    'HISTORY251J',\n",
       "    'HISTORY253F',\n",
       "    'HISTORY253P',\n",
       "    'HISTORY255B',\n",
       "    'HISTORY256E',\n",
       "    'HISTORY257E',\n",
       "    'HISTORY259E',\n",
       "    'HISTORY260P',\n",
       "    'HISTORY261E',\n",
       "    'HISTORY261G',\n",
       "    'HISTORY279B',\n",
       "    'HISTORY281K',\n",
       "    'HISTORY282J',\n",
       "    'HISTORY283F',\n",
       "    'HISTORY283J',\n",
       "    'HISTORY284',\n",
       "    'HISTORY284F',\n",
       "    'HISTORY285E',\n",
       "    'HISTORY286E',\n",
       "    'HISTORY288C',\n",
       "    'HISTORY290',\n",
       "    'HISTORY291G',\n",
       "    'HISTORY292C',\n",
       "    'HISTORY292D',\n",
       "    'HISTORY298C',\n",
       "    'HISTORY298E',\n",
       "    'HISTORY298F',\n",
       "    'HISTORY299H'],\n",
       "   2),\n",
       "  (['HISTORY200A',\n",
       "    'HISTORY200B',\n",
       "    'HISTORY200J',\n",
       "    'HISTORY200C',\n",
       "    'HISTORY200M',\n",
       "    'HISTORY200R',\n",
       "    'HISTORY200Y'],\n",
       "   1),\n",
       "  ([(['HISTORY110C', 'HISTORY150A', 'HISTORY150B', 'HISTORY150C'], 1),\n",
       "    (['HISTORY145B', 'HISTORY174', 'HISTORY181B', 'HISTORY195C'], 1)],\n",
       "   2),\n",
       "  'HISTORY209S'],\n",
       " '100.0% more to go for the major: history')"
      ]
     },
     "execution_count": 43,
     "metadata": {},
     "output_type": "execute_result"
    }
   ],
   "source": [
    "major_progress_tracker_rev('history', samp_list, 5)"
   ]
  },
  {
   "cell_type": "markdown",
   "metadata": {},
   "source": [
    "### This is how to call the function to track major progression"
   ]
  },
  {
   "cell_type": "code",
   "execution_count": 46,
   "metadata": {
    "scrolled": true
   },
   "outputs": [
    {
     "data": {
      "text/plain": [
       "(['HISTORY13S',\n",
       "  'HISTORY18S',\n",
       "  'HISTORY23S',\n",
       "  'HISTORY32S',\n",
       "  'HISTORY47S',\n",
       "  'HISTORY64S',\n",
       "  'HISTORY82S',\n",
       "  'HISTORY89S',\n",
       "  'HISTORY98S',\n",
       "  ({'HISTORY13S',\n",
       "    'HISTORY18S',\n",
       "    'HISTORY200A',\n",
       "    'HISTORY200B',\n",
       "    'HISTORY200C',\n",
       "    'HISTORY200J',\n",
       "    'HISTORY200M',\n",
       "    'HISTORY200R',\n",
       "    'HISTORY200Y',\n",
       "    'HISTORY201A',\n",
       "    'HISTORY201B',\n",
       "    'HISTORY202G',\n",
       "    'HISTORY203',\n",
       "    'HISTORY203C',\n",
       "    'HISTORY203F',\n",
       "    'HISTORY204A',\n",
       "    'HISTORY204D',\n",
       "    'HISTORY204G',\n",
       "    'HISTORY205L',\n",
       "    'HISTORY210D',\n",
       "    'HISTORY210J',\n",
       "    'HISTORY211',\n",
       "    'HISTORY216D',\n",
       "    'HISTORY222',\n",
       "    'HISTORY224C',\n",
       "    'HISTORY227B',\n",
       "    'HISTORY227K',\n",
       "    'HISTORY228',\n",
       "    'HISTORY232B',\n",
       "    'HISTORY232G',\n",
       "    'HISTORY233',\n",
       "    'HISTORY233F',\n",
       "    'HISTORY234P',\n",
       "    'HISTORY235J',\n",
       "    'HISTORY235L',\n",
       "    'HISTORY23S',\n",
       "    'HISTORY240',\n",
       "    'HISTORY241C',\n",
       "    'HISTORY242J',\n",
       "    'HISTORY243C',\n",
       "    'HISTORY243G',\n",
       "    'HISTORY244F',\n",
       "    'HISTORY248',\n",
       "    'HISTORY251C',\n",
       "    'HISTORY251J',\n",
       "    'HISTORY253F',\n",
       "    'HISTORY253P',\n",
       "    'HISTORY255B',\n",
       "    'HISTORY256E',\n",
       "    'HISTORY257E',\n",
       "    'HISTORY259E',\n",
       "    'HISTORY260P',\n",
       "    'HISTORY261E',\n",
       "    'HISTORY261G',\n",
       "    'HISTORY279B',\n",
       "    'HISTORY281K',\n",
       "    'HISTORY282J',\n",
       "    'HISTORY283F',\n",
       "    'HISTORY283J',\n",
       "    'HISTORY284',\n",
       "    'HISTORY284F',\n",
       "    'HISTORY285E',\n",
       "    'HISTORY286E',\n",
       "    'HISTORY288C',\n",
       "    'HISTORY290',\n",
       "    'HISTORY291G',\n",
       "    'HISTORY292C',\n",
       "    'HISTORY292D',\n",
       "    'HISTORY298C',\n",
       "    'HISTORY298E',\n",
       "    'HISTORY298F',\n",
       "    'HISTORY299H',\n",
       "    'HISTORY32S',\n",
       "    'HISTORY47S',\n",
       "    'HISTORY64S',\n",
       "    'HISTORY89S',\n",
       "    'HISTORY98S'},\n",
       "   2),\n",
       "  ({'HISTORY200A',\n",
       "    'HISTORY200B',\n",
       "    'HISTORY200C',\n",
       "    'HISTORY200J',\n",
       "    'HISTORY200M',\n",
       "    'HISTORY200R',\n",
       "    'HISTORY200Y'},\n",
       "   1),\n",
       "  ([({'HISTORY110C', 'HISTORY150A', 'HISTORY150B', 'HISTORY150C'}, 1),\n",
       "    ({'HISTORY145B', 'HISTORY174', 'HISTORY181B', 'HISTORY195C'}, 1)],\n",
       "   2),\n",
       "  'HISTORY209S'],\n",
       " '100.0% more to go for the major: history')"
      ]
     },
     "execution_count": 46,
     "metadata": {},
     "output_type": "execute_result"
    }
   ],
   "source": [
    "# first param. is the major that is in TRACKS built in the computer_science.py file\n",
    "# Second param is the sample_course_list to test against\n",
    "# third param is the number of units a class is worth (MUST put a value here even if major doesn't need it)\n",
    "\n",
    "# for the nested reqs, make sure to just return the course left to take\n",
    "# take the requirements --> substract from the requirement set after they have accomplished it\n",
    "major_progress_tracker('history', samp_list, 5)\n"
   ]
  },
  {
   "cell_type": "markdown",
   "metadata": {},
   "source": [
    "### Calculate the # of different ways to complete a major"
   ]
  },
  {
   "cell_type": "code",
   "execution_count": 6,
   "metadata": {},
   "outputs": [
    {
     "data": {
      "text/plain": [
       "dict_keys(['chem', 'biochem', 'bio', 'cheme', 'math', 'econ', 'history'])"
      ]
     },
     "execution_count": 6,
     "metadata": {},
     "output_type": "execute_result"
    }
   ],
   "source": [
    "TRACKS.keys()"
   ]
  },
  {
   "cell_type": "code",
   "execution_count": 7,
   "metadata": {},
   "outputs": [],
   "source": [
    "def major_complexity(major, units): \n",
    "    count = 1\n",
    "    for req in TRACKS[major]:\n",
    "        if isinstance(req, Req):\n",
    "            req_min = req.num[0]\n",
    "            if req.num[1]:\n",
    "                req_min /= units\n",
    "            count *= len(req.reqs) // req_min\n",
    "    return count"
   ]
  },
  {
   "cell_type": "code",
   "execution_count": 8,
   "metadata": {
    "scrolled": false
   },
   "outputs": [
    {
     "data": {
      "text/plain": [
       "266"
      ]
     },
     "execution_count": 8,
     "metadata": {},
     "output_type": "execute_result"
    }
   ],
   "source": [
    "major_complexity('history', 3)"
   ]
  }
 ],
 "metadata": {
  "kernelspec": {
   "display_name": "Python 3",
   "language": "python",
   "name": "python3"
  },
  "language_info": {
   "codemirror_mode": {
    "name": "ipython",
    "version": 3
   },
   "file_extension": ".py",
   "mimetype": "text/x-python",
   "name": "python",
   "nbconvert_exporter": "python",
   "pygments_lexer": "ipython3",
   "version": "3.7.3"
  }
 },
 "nbformat": 4,
 "nbformat_minor": 4
}
