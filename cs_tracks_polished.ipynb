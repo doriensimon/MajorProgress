{
 "cells": [
  {
   "cell_type": "code",
   "execution_count": 25,
   "metadata": {},
   "outputs": [],
   "source": [
    "import os\n",
    "import importlib"
   ]
  },
  {
   "cell_type": "code",
   "execution_count": 26,
   "metadata": {},
   "outputs": [
    {
     "ename": "TypeError",
     "evalue": "__init__() takes from 2 to 3 positional arguments but 4 were given",
     "output_type": "error",
     "traceback": [
      "\u001b[1;31m---------------------------------------------------------------------------\u001b[0m",
      "\u001b[1;31mTypeError\u001b[0m                                 Traceback (most recent call last)",
      "\u001b[1;32m<ipython-input-26-c96f39d56a3b>\u001b[0m in \u001b[0;36m<module>\u001b[1;34m\u001b[0m\n\u001b[0;32m      2\u001b[0m \u001b[1;32mimport\u001b[0m \u001b[0mreq_builder\u001b[0m\u001b[1;33m\u001b[0m\u001b[1;33m\u001b[0m\u001b[0m\n\u001b[0;32m      3\u001b[0m \u001b[1;32mfrom\u001b[0m \u001b[0mreq_builder\u001b[0m \u001b[1;32mimport\u001b[0m \u001b[0mReq\u001b[0m\u001b[1;33m,\u001b[0m \u001b[0mSubreq\u001b[0m\u001b[1;33m\u001b[0m\u001b[1;33m\u001b[0m\u001b[0m\n\u001b[1;32m----> 4\u001b[1;33m \u001b[0mimportlib\u001b[0m\u001b[1;33m.\u001b[0m\u001b[0mreload\u001b[0m\u001b[1;33m(\u001b[0m\u001b[0mcomputer_science\u001b[0m\u001b[1;33m)\u001b[0m\u001b[1;33m\u001b[0m\u001b[1;33m\u001b[0m\u001b[0m\n\u001b[0m\u001b[0;32m      5\u001b[0m \u001b[1;32mfrom\u001b[0m \u001b[0mcomputer_science\u001b[0m \u001b[1;32mimport\u001b[0m \u001b[0mTRACKS\u001b[0m\u001b[1;33m\u001b[0m\u001b[1;33m\u001b[0m\u001b[0m\n",
      "\u001b[1;32m~\\Anaconda3\\lib\\importlib\\__init__.py\u001b[0m in \u001b[0;36mreload\u001b[1;34m(module)\u001b[0m\n\u001b[0;32m    167\u001b[0m         \u001b[1;32mif\u001b[0m \u001b[0mspec\u001b[0m \u001b[1;32mis\u001b[0m \u001b[1;32mNone\u001b[0m\u001b[1;33m:\u001b[0m\u001b[1;33m\u001b[0m\u001b[1;33m\u001b[0m\u001b[0m\n\u001b[0;32m    168\u001b[0m             \u001b[1;32mraise\u001b[0m \u001b[0mModuleNotFoundError\u001b[0m\u001b[1;33m(\u001b[0m\u001b[1;34mf\"spec not found for the module {name!r}\"\u001b[0m\u001b[1;33m,\u001b[0m \u001b[0mname\u001b[0m\u001b[1;33m=\u001b[0m\u001b[0mname\u001b[0m\u001b[1;33m)\u001b[0m\u001b[1;33m\u001b[0m\u001b[1;33m\u001b[0m\u001b[0m\n\u001b[1;32m--> 169\u001b[1;33m         \u001b[0m_bootstrap\u001b[0m\u001b[1;33m.\u001b[0m\u001b[0m_exec\u001b[0m\u001b[1;33m(\u001b[0m\u001b[0mspec\u001b[0m\u001b[1;33m,\u001b[0m \u001b[0mmodule\u001b[0m\u001b[1;33m)\u001b[0m\u001b[1;33m\u001b[0m\u001b[1;33m\u001b[0m\u001b[0m\n\u001b[0m\u001b[0;32m    170\u001b[0m         \u001b[1;31m# The module may have replaced itself in sys.modules!\u001b[0m\u001b[1;33m\u001b[0m\u001b[1;33m\u001b[0m\u001b[1;33m\u001b[0m\u001b[0m\n\u001b[0;32m    171\u001b[0m         \u001b[1;32mreturn\u001b[0m \u001b[0msys\u001b[0m\u001b[1;33m.\u001b[0m\u001b[0mmodules\u001b[0m\u001b[1;33m[\u001b[0m\u001b[0mname\u001b[0m\u001b[1;33m]\u001b[0m\u001b[1;33m\u001b[0m\u001b[1;33m\u001b[0m\u001b[0m\n",
      "\u001b[1;32m~\\Anaconda3\\lib\\importlib\\_bootstrap.py\u001b[0m in \u001b[0;36m_exec\u001b[1;34m(spec, module)\u001b[0m\n",
      "\u001b[1;32m~\\Anaconda3\\lib\\importlib\\_bootstrap_external.py\u001b[0m in \u001b[0;36mexec_module\u001b[1;34m(self, module)\u001b[0m\n",
      "\u001b[1;32m~\\Anaconda3\\lib\\importlib\\_bootstrap.py\u001b[0m in \u001b[0;36m_call_with_frames_removed\u001b[1;34m(f, *args, **kwds)\u001b[0m\n",
      "\u001b[1;32mC:\\stanford_cs\\research\\Carta\\MajorProgress\\computer_science.py\u001b[0m in \u001b[0;36m<module>\u001b[1;34m\u001b[0m\n\u001b[0;32m     23\u001b[0m '''\n\u001b[0;32m     24\u001b[0m TRACKS['chem'] = [ \n\u001b[1;32m---> 25\u001b[1;33m     \u001b[0mReq\u001b[0m\u001b[1;33m(\u001b[0m\u001b[1;33m[\u001b[0m\u001b[1;34m'CHEM31A'\u001b[0m\u001b[1;33m,\u001b[0m \u001b[1;34m'CHEM31B'\u001b[0m\u001b[1;33m,\u001b[0m \u001b[1;34m'CHEM31M'\u001b[0m\u001b[1;33m,\u001b[0m \u001b[1;34m'CHEM33'\u001b[0m\u001b[1;33m]\u001b[0m\u001b[1;33m,\u001b[0m \u001b[1;36m1\u001b[0m\u001b[1;33m,\u001b[0m \u001b[1;32mTrue\u001b[0m\u001b[1;33m)\u001b[0m\u001b[1;33m,\u001b[0m\u001b[1;33m\u001b[0m\u001b[1;33m\u001b[0m\u001b[0m\n\u001b[0m\u001b[0;32m     26\u001b[0m     \u001b[1;34m'CHEM121'\u001b[0m\u001b[1;33m,\u001b[0m \u001b[1;34m'CHEM131'\u001b[0m\u001b[1;33m,\u001b[0m \u001b[1;34m'CHEM151'\u001b[0m\u001b[1;33m,\u001b[0m \u001b[1;34m'CHEM171'\u001b[0m\u001b[1;33m,\u001b[0m \u001b[1;34m'CS106A'\u001b[0m\u001b[1;33m,\u001b[0m \u001b[1;34m'MATH19'\u001b[0m\u001b[1;33m,\u001b[0m \u001b[1;34m'MATH20'\u001b[0m\u001b[1;33m,\u001b[0m \u001b[1;34m'MATH21'\u001b[0m\u001b[1;33m,\u001b[0m \u001b[1;34m'MATH51'\u001b[0m\u001b[1;33m,\u001b[0m\u001b[1;33m\u001b[0m\u001b[1;33m\u001b[0m\u001b[0m\n\u001b[0;32m     27\u001b[0m     \u001b[1;34m'PHYSICS41'\u001b[0m\u001b[1;33m,\u001b[0m \u001b[1;34m'PHYSICS42'\u001b[0m\u001b[1;33m,\u001b[0m \u001b[1;34m'PHYSICS43'\u001b[0m\u001b[1;33m,\u001b[0m \u001b[1;34m'PHYSICS44'\u001b[0m\u001b[1;33m,\u001b[0m\u001b[1;33m\u001b[0m\u001b[1;33m\u001b[0m\u001b[0m\n",
      "\u001b[1;31mTypeError\u001b[0m: __init__() takes from 2 to 3 positional arguments but 4 were given"
     ]
    }
   ],
   "source": [
    "import computer_science\n",
    "import req_builder\n",
    "from req_builder import Req, Subreq\n",
    "importlib.reload(computer_science)\n",
    "from computer_science import TRACKS\n"
   ]
  },
  {
   "cell_type": "code",
   "execution_count": 27,
   "metadata": {},
   "outputs": [
    {
     "data": {
      "text/plain": [
       "<req_builder.Req at 0x1822b828198>"
      ]
     },
     "execution_count": 27,
     "metadata": {},
     "output_type": "execute_result"
    }
   ],
   "source": [
    "Req(['1'], 1)"
   ]
  },
  {
   "cell_type": "code",
   "execution_count": 17,
   "metadata": {},
   "outputs": [],
   "source": [
    "samp_list = set(['CHEM174', 'BIO86', 'CHEM121', 'CHEM131', 'CHEM151', 'CHEM171', 'CHEM181','CS106A', 'MATH19', 'MATH20', 'MATH21', 'MATH51', \n",
    "    'PHYSICS41', 'PHYSICS42', 'PHYSICS43', 'PHYSICS44', \n",
    "    'CHEM123', 'CHEM124', 'CHEM126', 'CHEM185', 'CHEM173', 'CHEM183', 'CHEM184', 'CHEM176'])"
   ]
  },
  {
   "cell_type": "code",
   "execution_count": 8,
   "metadata": {},
   "outputs": [],
   "source": [
    "def nested_req(req, courses):\n",
    "    off_count = 0 \n",
    "    other_reqs = set()\n",
    "    need = []\n",
    "    for req in req.reqs:\n",
    "        if isinstance(req, Req):            \n",
    "            req_set = set(req.reqs)\n",
    "            req_num = req.num\n",
    "            before_length = len(req_set)\n",
    "            if not len(req_set.difference(courses)) == before_length - req_num:\n",
    "                off_count += 1\n",
    "                need.append((req_set, req.num))\n",
    "        else:\n",
    "            other_reqs.add(req)\n",
    "    return off_count, other_reqs, need"
   ]
  },
  {
   "cell_type": "code",
   "execution_count": 13,
   "metadata": {},
   "outputs": [],
   "source": [
    "def major_progress(major, courses):\n",
    "    off_count = 0 \n",
    "    other_reqs = set()\n",
    "    need = []\n",
    "    for req in TRACKS[major]:\n",
    "        if isinstance(req, Req):\n",
    "            if any(isinstance(x, Req) for x in req.reqs):\n",
    "                count, required, needed = nested_req(req, courses)\n",
    "                off_count += count\n",
    "                \n",
    "                other_reqs.union(required)\n",
    "                need.extend(needed)\n",
    "            else:\n",
    "                req_set = set(req.reqs)\n",
    "                req_num = req.num\n",
    "                req_units = req.units\n",
    "                if req_units:\n",
    "                    print(\"works for bool\")\n",
    "                before_length = len(req_set)\n",
    "                if not len(req_set.difference(courses)) == before_length - req_num:\n",
    "                    off_count += 1\n",
    "                    need.append((req_set, req.num))\n",
    "        else:\n",
    "            other_reqs.add(req)\n",
    "    \n",
    "    off_count += len(other_reqs.difference(courses))\n",
    "    courses_left = list(other_reqs.difference(courses))\n",
    "    courses_left.extend(need)\n",
    "\n",
    "    return str(round(off_count/len(TRACKS[major]) * 100, 2))  + '%' + ' away from being a ' + major + ' major', courses_left"
   ]
  },
  {
   "cell_type": "code",
   "execution_count": 14,
   "metadata": {
    "scrolled": false
   },
   "outputs": [
    {
     "ename": "AttributeError",
     "evalue": "'Req' object has no attribute 'units'",
     "output_type": "error",
     "traceback": [
      "\u001b[1;31m---------------------------------------------------------------------------\u001b[0m",
      "\u001b[1;31mAttributeError\u001b[0m                            Traceback (most recent call last)",
      "\u001b[1;32m<ipython-input-14-639ce1288f5e>\u001b[0m in \u001b[0;36m<module>\u001b[1;34m\u001b[0m\n\u001b[0;32m     14\u001b[0m \u001b[1;31m# major_progress('biochem')\u001b[0m\u001b[1;33m\u001b[0m\u001b[1;33m\u001b[0m\u001b[1;33m\u001b[0m\u001b[0m\n\u001b[0;32m     15\u001b[0m \u001b[1;31m# If a student takes multiple offerings of the same class\u001b[0m\u001b[1;33m\u001b[0m\u001b[1;33m\u001b[0m\u001b[1;33m\u001b[0m\u001b[0m\n\u001b[1;32m---> 16\u001b[1;33m \u001b[0mmajor_progress\u001b[0m\u001b[1;33m(\u001b[0m\u001b[1;34m'chem'\u001b[0m\u001b[1;33m,\u001b[0m \u001b[0msamp_list\u001b[0m\u001b[1;33m)\u001b[0m\u001b[1;33m\u001b[0m\u001b[1;33m\u001b[0m\u001b[0m\n\u001b[0m\u001b[0;32m     17\u001b[0m \u001b[1;31m# edge cases: redundant courses if they are taking course equivalents we aren't double counting those.\u001b[0m\u001b[1;33m\u001b[0m\u001b[1;33m\u001b[0m\u001b[1;33m\u001b[0m\u001b[0m\n\u001b[0;32m     18\u001b[0m \u001b[1;31m# How many different ways can you satisfy a major? Try to generate the power set of all possible courses/the requisites. Wants to convey major complexity satisfication and how it varies across departments\u001b[0m\u001b[1;33m\u001b[0m\u001b[1;33m\u001b[0m\u001b[1;33m\u001b[0m\u001b[0m\n",
      "\u001b[1;32m<ipython-input-13-599d11c45633>\u001b[0m in \u001b[0;36mmajor_progress\u001b[1;34m(major, courses)\u001b[0m\n\u001b[0;32m     14\u001b[0m                 \u001b[0mreq_set\u001b[0m \u001b[1;33m=\u001b[0m \u001b[0mset\u001b[0m\u001b[1;33m(\u001b[0m\u001b[0mreq\u001b[0m\u001b[1;33m.\u001b[0m\u001b[0mreqs\u001b[0m\u001b[1;33m)\u001b[0m\u001b[1;33m\u001b[0m\u001b[1;33m\u001b[0m\u001b[0m\n\u001b[0;32m     15\u001b[0m                 \u001b[0mreq_num\u001b[0m \u001b[1;33m=\u001b[0m \u001b[0mreq\u001b[0m\u001b[1;33m.\u001b[0m\u001b[0mnum\u001b[0m\u001b[1;33m\u001b[0m\u001b[1;33m\u001b[0m\u001b[0m\n\u001b[1;32m---> 16\u001b[1;33m                 \u001b[0mreq_units\u001b[0m \u001b[1;33m=\u001b[0m \u001b[0mreq\u001b[0m\u001b[1;33m.\u001b[0m\u001b[0munits\u001b[0m\u001b[1;33m\u001b[0m\u001b[1;33m\u001b[0m\u001b[0m\n\u001b[0m\u001b[0;32m     17\u001b[0m                 \u001b[1;32mif\u001b[0m \u001b[0mreq_units\u001b[0m\u001b[1;33m:\u001b[0m\u001b[1;33m\u001b[0m\u001b[1;33m\u001b[0m\u001b[0m\n\u001b[0;32m     18\u001b[0m                     \u001b[0mprint\u001b[0m\u001b[1;33m(\u001b[0m\u001b[1;34m\"works for bool\"\u001b[0m\u001b[1;33m)\u001b[0m\u001b[1;33m\u001b[0m\u001b[1;33m\u001b[0m\u001b[0m\n",
      "\u001b[1;31mAttributeError\u001b[0m: 'Req' object has no attribute 'units'"
     ]
    }
   ],
   "source": [
    "# UNIT PROBLEM\n",
    "# 1. Keep track of units\n",
    "# 2. Add a unit parameter for classes\n",
    "# ['1', '2', '3'] = 15\n",
    "\n",
    "# Power Set Problem\n",
    "# Take out each course from a requirement and generate power set\n",
    "# put all courses in list and create recursive function that pulls one thing out and see's if that list is still satisfying\n",
    "# Dynamic Programming (ex. memoization) --> there are ceratin cases where you can multiply by the number of ways to get to that case\n",
    "# what is the minimum number of courses sufficient to complete a major?\n",
    "# how people \n",
    "\n",
    "\n",
    "# major_progress('biochem')\n",
    "# If a student takes multiple offerings of the same class\n",
    "major_progress('chem', samp_list)\n",
    "# edge cases: redundant courses if they are taking course equivalents we aren't double counting those. \n",
    "# How many different ways can you satisfy a major? Try to generate the power set of all possible courses/the requisites. Wants to convey major complexity satisfication and how it varies across departments\n"
   ]
  },
  {
   "cell_type": "code",
   "execution_count": 117,
   "metadata": {},
   "outputs": [],
   "source": [
    "import math; \n",
    "  \n",
    "def printPowerSet(sets,set_size): \n",
    "      \n",
    "    # set_size of power set of a set \n",
    "    # with set_size n is (2**n -1) \n",
    "    pow_set_size = (int) (math.pow(2, set_size)); \n",
    "    counter = 0; \n",
    "    j = 0; \n",
    "      \n",
    "    # Run from counter 000..0 to 111..1 \n",
    "    for counter in range(0, pow_set_size): \n",
    "        for j in range(0, set_size): \n",
    "              \n",
    "            # Check if jth bit in the  \n",
    "            # counter is set If set then  \n",
    "            # print jth element from set  \n",
    "            if((counter & (1 << j)) > 0): \n",
    "                print(sets[j], end = \"\"); \n",
    "        print(\"\"); "
   ]
  },
  {
   "cell_type": "code",
   "execution_count": 125,
   "metadata": {},
   "outputs": [
    {
     "data": {
      "text/plain": [
       "[<req_builder.Req at 0x277c60bc518>,\n",
       " 'CHEM121',\n",
       " 'CHEM131',\n",
       " 'CHEM151',\n",
       " 'CHEM171',\n",
       " 'CS106A',\n",
       " 'MATH19',\n",
       " 'MATH20',\n",
       " 'MATH21',\n",
       " 'MATH51',\n",
       " 'PHYSICS41',\n",
       " 'PHYSICS42',\n",
       " 'PHYSICS43',\n",
       " 'PHYSICS44',\n",
       " 'CHEM123',\n",
       " 'CHEM124',\n",
       " 'CHEM126',\n",
       " 'CHEM153',\n",
       " 'CHEM173',\n",
       " 'CHEM174',\n",
       " 'CHEM175',\n",
       " 'CHEM176']"
      ]
     },
     "execution_count": 125,
     "metadata": {},
     "output_type": "execute_result"
    }
   ],
   "source": [
    "sets = TRACKS['chem']\n",
    "sets"
   ]
  },
  {
   "cell_type": "code",
   "execution_count": 73,
   "metadata": {
    "scrolled": true
   },
   "outputs": [
    {
     "ename": "TypeError",
     "evalue": "'Req' object is not iterable",
     "output_type": "error",
     "traceback": [
      "\u001b[1;31m---------------------------------------------------------------------------\u001b[0m",
      "\u001b[1;31mTypeError\u001b[0m                                 Traceback (most recent call last)",
      "\u001b[1;32m<ipython-input-73-1f857aee957c>\u001b[0m in \u001b[0;36m<module>\u001b[1;34m\u001b[0m\n\u001b[0;32m      1\u001b[0m \u001b[0mmajor_set\u001b[0m \u001b[1;33m=\u001b[0m \u001b[0mset\u001b[0m\u001b[1;33m(\u001b[0m\u001b[0mTRACKS\u001b[0m\u001b[1;33m[\u001b[0m\u001b[1;34m'chem'\u001b[0m\u001b[1;33m]\u001b[0m\u001b[1;33m.\u001b[0m\u001b[0mreqs\u001b[0m\u001b[1;33m)\u001b[0m\u001b[1;33m\u001b[0m\u001b[1;33m\u001b[0m\u001b[0m\n\u001b[0;32m      2\u001b[0m \u001b[1;33m\u001b[0m\u001b[0m\n\u001b[1;32m----> 3\u001b[1;33m \u001b[0mmajor_set\u001b[0m \u001b[1;33m-\u001b[0m \u001b[0mset\u001b[0m\u001b[1;33m(\u001b[0m\u001b[0mTRACKS\u001b[0m\u001b[1;33m[\u001b[0m\u001b[1;34m'chem'\u001b[0m\u001b[1;33m]\u001b[0m\u001b[1;33m.\u001b[0m\u001b[0mreqs\u001b[0m\u001b[1;33m[\u001b[0m\u001b[1;36m0\u001b[0m\u001b[1;33m]\u001b[0m\u001b[1;33m)\u001b[0m\u001b[1;33m\u001b[0m\u001b[1;33m\u001b[0m\u001b[0m\n\u001b[0m",
      "\u001b[1;31mTypeError\u001b[0m: 'Req' object is not iterable"
     ]
    }
   ],
   "source": [
    "major_set = set(TRACKS['chem'].reqs)\n",
    "\n",
    "# If I could modify the Req class and make it iterable I could probably make this faster. \n",
    "# I could just make the requirements a set and then subtract out the req object from the set\n",
    "# we will see if I can do this someday, but for now a may have one extra step making it slow\n",
    "major_set - set(TRACKS['chem'].reqs[0])"
   ]
  }
 ],
 "metadata": {
  "kernelspec": {
   "display_name": "Python 3",
   "language": "python",
   "name": "python3"
  },
  "language_info": {
   "codemirror_mode": {
    "name": "ipython",
    "version": 3
   },
   "file_extension": ".py",
   "mimetype": "text/x-python",
   "name": "python",
   "nbconvert_exporter": "python",
   "pygments_lexer": "ipython3",
   "version": "3.7.3"
  }
 },
 "nbformat": 4,
 "nbformat_minor": 4
}
